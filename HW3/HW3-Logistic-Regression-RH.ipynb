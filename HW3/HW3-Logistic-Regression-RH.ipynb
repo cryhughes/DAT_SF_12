{
 "metadata": {
  "name": "",
  "signature": "sha256:75b1f4ef8b35962f33ce747ba9a6f99db0476a9471099f57e8caa24a327c7519"
 },
 "nbformat": 3,
 "nbformat_minor": 0,
 "worksheets": [
  {
   "cells": [
    {
     "cell_type": "markdown",
     "metadata": {},
     "source": [
      "In this homework, we'll be looking at the infamous Titanic dataset. It's become a canonical example for budding data scientists beginning machine learning and will be a good case study in using logistic regression."
     ]
    },
    {
     "cell_type": "markdown",
     "metadata": {},
     "source": [
      "From the project description on [Kaggle]('http://www.kaggle.com/c/titanic-gettingStarted'):\n",
      "###Kaggle Competition | Titanic Machine Learning from Disaster\n",
      "\n",
      ">The sinking of the RMS Titanic is one of the most infamous shipwrecks in history.  On April 15, 1912, during her maiden voyage, the Titanic sank after colliding with an iceberg, killing 1502 out of 2224 passengers and crew.  This sensational tragedy shocked the international community and led to better safety regulations for ships.\n",
      "\n",
      ">One of the reasons that the shipwreck led to such loss of life was that there were not enough lifeboats for the passengers and crew.  Although there was some element of luck involved in surviving the sinking, some groups of people were more likely to survive than others, such as women, children, and the upper-class.\n",
      "\n",
      ">In this contest, we ask you to complete the analysis of what sorts of people were likely to survive.  In particular, we ask you to apply the tools of machine learning to predict which passengers survived the tragedy.\n",
      "\n",
      ">This Kaggle Getting Started Competition provides an ideal starting place for people who may not have a lot of experience in data science and machine learning.\""
     ]
    },
    {
     "cell_type": "code",
     "collapsed": false,
     "input": [
      "# http://www.kaggle.com/c/titanic-gettingStarted\n",
      "'''\n",
      "VARIABLE DESCRIPTIONS:\n",
      "survival        Survival\n",
      "                (0 = No; 1 = Yes)\n",
      "pclass          Passenger Class\n",
      "                (1 = 1st; 2 = 2nd; 3 = 3rd)\n",
      "name            Name\n",
      "sex             Sex\n",
      "age             Age\n",
      "sibsp           Number of Siblings/Spouses Aboard\n",
      "parch           Number of Parents/Children Aboard\n",
      "ticket          Ticket Number\n",
      "fare            Passenger Fare\n",
      "cabin           Cabin\n",
      "embarked        Port of Embarkation\n",
      "                (C = Cherbourg; Q = Queenstown; S = Southampton)\n",
      "\n",
      "SPECIAL NOTES:\n",
      "Pclass is a proxy for socio-economic status (SES)\n",
      " 1st ~ Upper; 2nd ~ Middle; 3rd ~ Lower\n",
      "\n",
      "Age is in Years; Fractional if Age less than One (1)\n",
      " If the Age is Estimated, it is in the form xx.5\n",
      "\n",
      "With respect to the family relation variables (i.e. sibsp and parch)\n",
      "some relations were ignored.  The following are the definitions used\n",
      "for sibsp and parch.\n",
      "\n",
      "Sibling:  Brother, Sister, Stepbrother, or Stepsister of Passenger Aboard Titanic\n",
      "Spouse:   Husband or Wife of Passenger Aboard Titanic (Mistresses and Fiances Ignored)\n",
      "Parent:   Mother or Father of Passenger Aboard Titanic\n",
      "Child:    Son, Daughter, Stepson, or Stepdaughter of Passenger Aboard Titanic\n",
      "\n",
      "Other family relatives excluded from this study include cousins,\n",
      "nephews/nieces, aunts/uncles, and in-laws.  Some children travelled\n",
      "only with a nanny, therefore parch=0 for them.  As well, some\n",
      "travelled with very close friends or neighbors in a village, however,\n",
      "the definitions do not support such relations.\n",
      "'''"
     ],
     "language": "python",
     "metadata": {},
     "outputs": []
    },
    {
     "cell_type": "markdown",
     "metadata": {},
     "source": [
      "As with any start of a data science problem make sure you import your libraries!"
     ]
    },
    {
     "cell_type": "code",
     "collapsed": false,
     "input": [
      "%matplotlib inline"
     ],
     "language": "python",
     "metadata": {},
     "outputs": [],
     "prompt_number": 17
    },
    {
     "cell_type": "code",
     "collapsed": false,
     "input": [
      "import numpy as np\n",
      "import pandas as pd\n",
      "import statsmodels.api as sm\n",
      "import statsmodels.formula.api as smf\n",
      "#import additional libraries here if you need them\n",
      "\n",
      "import seaborn as sns\n",
      "from seaborn import plt\n"
     ],
     "language": "python",
     "metadata": {},
     "outputs": [],
     "prompt_number": 7
    },
    {
     "cell_type": "markdown",
     "metadata": {},
     "source": [
      "Kaggle has conveniently split the data already into a training set and test set. You can find them in the data folder."
     ]
    },
    {
     "cell_type": "code",
     "collapsed": false,
     "input": [
      "#load data here\n",
      "#eg from regression lab : \n",
      "#x = pd.read_table('http://www.ats.ucla.edu/stat/examples/chp/p054.txt')\n",
      "\n",
      "df_train = pd.read_csv( 'train.csv')\n",
      "df_train.head(3)"
     ],
     "language": "python",
     "metadata": {},
     "outputs": [
      {
       "html": [
        "<div style=\"max-height:1000px;max-width:1500px;overflow:auto;\">\n",
        "<table border=\"1\" class=\"dataframe\">\n",
        "  <thead>\n",
        "    <tr style=\"text-align: right;\">\n",
        "      <th></th>\n",
        "      <th>PassengerId</th>\n",
        "      <th>Survived</th>\n",
        "      <th>Pclass</th>\n",
        "      <th>Name</th>\n",
        "      <th>Sex</th>\n",
        "      <th>Age</th>\n",
        "      <th>SibSp</th>\n",
        "      <th>Parch</th>\n",
        "      <th>Ticket</th>\n",
        "      <th>Fare</th>\n",
        "      <th>Cabin</th>\n",
        "      <th>Embarked</th>\n",
        "    </tr>\n",
        "  </thead>\n",
        "  <tbody>\n",
        "    <tr>\n",
        "      <th>0</th>\n",
        "      <td> 1</td>\n",
        "      <td> 0</td>\n",
        "      <td> 3</td>\n",
        "      <td>                           Braund, Mr. Owen Harris</td>\n",
        "      <td>   male</td>\n",
        "      <td> 22</td>\n",
        "      <td> 1</td>\n",
        "      <td> 0</td>\n",
        "      <td>        A/5 21171</td>\n",
        "      <td>  7.2500</td>\n",
        "      <td> NaN</td>\n",
        "      <td> S</td>\n",
        "    </tr>\n",
        "    <tr>\n",
        "      <th>1</th>\n",
        "      <td> 2</td>\n",
        "      <td> 1</td>\n",
        "      <td> 1</td>\n",
        "      <td> Cumings, Mrs. John Bradley (Florence Briggs Th...</td>\n",
        "      <td> female</td>\n",
        "      <td> 38</td>\n",
        "      <td> 1</td>\n",
        "      <td> 0</td>\n",
        "      <td>         PC 17599</td>\n",
        "      <td> 71.2833</td>\n",
        "      <td> C85</td>\n",
        "      <td> C</td>\n",
        "    </tr>\n",
        "    <tr>\n",
        "      <th>2</th>\n",
        "      <td> 3</td>\n",
        "      <td> 1</td>\n",
        "      <td> 3</td>\n",
        "      <td>                            Heikkinen, Miss. Laina</td>\n",
        "      <td> female</td>\n",
        "      <td> 26</td>\n",
        "      <td> 0</td>\n",
        "      <td> 0</td>\n",
        "      <td> STON/O2. 3101282</td>\n",
        "      <td>  7.9250</td>\n",
        "      <td> NaN</td>\n",
        "      <td> S</td>\n",
        "    </tr>\n",
        "  </tbody>\n",
        "</table>\n",
        "</div>"
       ],
       "metadata": {},
       "output_type": "pyout",
       "prompt_number": 2,
       "text": [
        "   PassengerId  Survived  Pclass  \\\n",
        "0            1         0       3   \n",
        "1            2         1       1   \n",
        "2            3         1       3   \n",
        "\n",
        "                                                Name     Sex  Age  SibSp  \\\n",
        "0                            Braund, Mr. Owen Harris    male   22      1   \n",
        "1  Cumings, Mrs. John Bradley (Florence Briggs Th...  female   38      1   \n",
        "2                             Heikkinen, Miss. Laina  female   26      0   \n",
        "\n",
        "   Parch            Ticket     Fare Cabin Embarked  \n",
        "0      0         A/5 21171   7.2500   NaN        S  \n",
        "1      0          PC 17599  71.2833   C85        C  \n",
        "2      0  STON/O2. 3101282   7.9250   NaN        S  "
       ]
      }
     ],
     "prompt_number": 2
    },
    {
     "cell_type": "code",
     "collapsed": false,
     "input": [
      "df_test = pd.read_csv( 'test.csv')\n",
      "df_test.head(3)"
     ],
     "language": "python",
     "metadata": {},
     "outputs": [
      {
       "html": [
        "<div style=\"max-height:1000px;max-width:1500px;overflow:auto;\">\n",
        "<table border=\"1\" class=\"dataframe\">\n",
        "  <thead>\n",
        "    <tr style=\"text-align: right;\">\n",
        "      <th></th>\n",
        "      <th>PassengerId</th>\n",
        "      <th>Pclass</th>\n",
        "      <th>Name</th>\n",
        "      <th>Sex</th>\n",
        "      <th>Age</th>\n",
        "      <th>SibSp</th>\n",
        "      <th>Parch</th>\n",
        "      <th>Ticket</th>\n",
        "      <th>Fare</th>\n",
        "      <th>Cabin</th>\n",
        "      <th>Embarked</th>\n",
        "    </tr>\n",
        "  </thead>\n",
        "  <tbody>\n",
        "    <tr>\n",
        "      <th>0</th>\n",
        "      <td> 892</td>\n",
        "      <td> 3</td>\n",
        "      <td>                 Kelly, Mr. James</td>\n",
        "      <td>   male</td>\n",
        "      <td> 34.5</td>\n",
        "      <td> 0</td>\n",
        "      <td> 0</td>\n",
        "      <td> 330911</td>\n",
        "      <td> 7.8292</td>\n",
        "      <td> NaN</td>\n",
        "      <td> Q</td>\n",
        "    </tr>\n",
        "    <tr>\n",
        "      <th>1</th>\n",
        "      <td> 893</td>\n",
        "      <td> 3</td>\n",
        "      <td> Wilkes, Mrs. James (Ellen Needs)</td>\n",
        "      <td> female</td>\n",
        "      <td> 47.0</td>\n",
        "      <td> 1</td>\n",
        "      <td> 0</td>\n",
        "      <td> 363272</td>\n",
        "      <td> 7.0000</td>\n",
        "      <td> NaN</td>\n",
        "      <td> S</td>\n",
        "    </tr>\n",
        "    <tr>\n",
        "      <th>2</th>\n",
        "      <td> 894</td>\n",
        "      <td> 2</td>\n",
        "      <td>        Myles, Mr. Thomas Francis</td>\n",
        "      <td>   male</td>\n",
        "      <td> 62.0</td>\n",
        "      <td> 0</td>\n",
        "      <td> 0</td>\n",
        "      <td> 240276</td>\n",
        "      <td> 9.6875</td>\n",
        "      <td> NaN</td>\n",
        "      <td> Q</td>\n",
        "    </tr>\n",
        "  </tbody>\n",
        "</table>\n",
        "</div>"
       ],
       "metadata": {},
       "output_type": "pyout",
       "prompt_number": 3,
       "text": [
        "   PassengerId  Pclass                              Name     Sex   Age  SibSp  \\\n",
        "0          892       3                  Kelly, Mr. James    male  34.5      0   \n",
        "1          893       3  Wilkes, Mrs. James (Ellen Needs)  female  47.0      1   \n",
        "2          894       2         Myles, Mr. Thomas Francis    male  62.0      0   \n",
        "\n",
        "   Parch  Ticket    Fare Cabin Embarked  \n",
        "0      0  330911  7.8292   NaN        Q  \n",
        "1      0  363272  7.0000   NaN        S  \n",
        "2      0  240276  9.6875   NaN        Q  "
       ]
      }
     ],
     "prompt_number": 3
    },
    {
     "cell_type": "markdown",
     "metadata": {},
     "source": [
      "While you could analyze this data many different ways, we'll focus on using logistic regression. For a recap of what logistic regression is look [here]('http://blog.yhathq.com/posts/logistic-regression-and-python.html')."
     ]
    },
    {
     "cell_type": "markdown",
     "metadata": {},
     "source": [
      "Before creating your model, conduct some exploratory data analysis first. Make a few plots and comment on the results. What interesting patterns do you see?"
     ]
    },
    {
     "cell_type": "code",
     "collapsed": false,
     "input": [
      "df_train.describe().T"
     ],
     "language": "python",
     "metadata": {},
     "outputs": [
      {
       "html": [
        "<div style=\"max-height:1000px;max-width:1500px;overflow:auto;\">\n",
        "<table border=\"1\" class=\"dataframe\">\n",
        "  <thead>\n",
        "    <tr style=\"text-align: right;\">\n",
        "      <th></th>\n",
        "      <th>count</th>\n",
        "      <th>mean</th>\n",
        "      <th>std</th>\n",
        "      <th>min</th>\n",
        "      <th>25%</th>\n",
        "      <th>50%</th>\n",
        "      <th>75%</th>\n",
        "      <th>max</th>\n",
        "    </tr>\n",
        "  </thead>\n",
        "  <tbody>\n",
        "    <tr>\n",
        "      <th>PassengerId</th>\n",
        "      <td> 891</td>\n",
        "      <td> 446.000000</td>\n",
        "      <td> 257.353842</td>\n",
        "      <td> 1.00</td>\n",
        "      <td> 223.5000</td>\n",
        "      <td> 446.0000</td>\n",
        "      <td> 668.5</td>\n",
        "      <td> 891.0000</td>\n",
        "    </tr>\n",
        "    <tr>\n",
        "      <th>Survived</th>\n",
        "      <td> 891</td>\n",
        "      <td>   0.383838</td>\n",
        "      <td>   0.486592</td>\n",
        "      <td> 0.00</td>\n",
        "      <td>   0.0000</td>\n",
        "      <td>   0.0000</td>\n",
        "      <td>   1.0</td>\n",
        "      <td>   1.0000</td>\n",
        "    </tr>\n",
        "    <tr>\n",
        "      <th>Pclass</th>\n",
        "      <td> 891</td>\n",
        "      <td>   2.308642</td>\n",
        "      <td>   0.836071</td>\n",
        "      <td> 1.00</td>\n",
        "      <td>   2.0000</td>\n",
        "      <td>   3.0000</td>\n",
        "      <td>   3.0</td>\n",
        "      <td>   3.0000</td>\n",
        "    </tr>\n",
        "    <tr>\n",
        "      <th>Age</th>\n",
        "      <td> 714</td>\n",
        "      <td>  29.699118</td>\n",
        "      <td>  14.526497</td>\n",
        "      <td> 0.42</td>\n",
        "      <td>  20.1250</td>\n",
        "      <td>  28.0000</td>\n",
        "      <td>  38.0</td>\n",
        "      <td>  80.0000</td>\n",
        "    </tr>\n",
        "    <tr>\n",
        "      <th>SibSp</th>\n",
        "      <td> 891</td>\n",
        "      <td>   0.523008</td>\n",
        "      <td>   1.102743</td>\n",
        "      <td> 0.00</td>\n",
        "      <td>   0.0000</td>\n",
        "      <td>   0.0000</td>\n",
        "      <td>   1.0</td>\n",
        "      <td>   8.0000</td>\n",
        "    </tr>\n",
        "    <tr>\n",
        "      <th>Parch</th>\n",
        "      <td> 891</td>\n",
        "      <td>   0.381594</td>\n",
        "      <td>   0.806057</td>\n",
        "      <td> 0.00</td>\n",
        "      <td>   0.0000</td>\n",
        "      <td>   0.0000</td>\n",
        "      <td>   0.0</td>\n",
        "      <td>   6.0000</td>\n",
        "    </tr>\n",
        "    <tr>\n",
        "      <th>Fare</th>\n",
        "      <td> 891</td>\n",
        "      <td>  32.204208</td>\n",
        "      <td>  49.693429</td>\n",
        "      <td> 0.00</td>\n",
        "      <td>   7.9104</td>\n",
        "      <td>  14.4542</td>\n",
        "      <td>  31.0</td>\n",
        "      <td> 512.3292</td>\n",
        "    </tr>\n",
        "  </tbody>\n",
        "</table>\n",
        "</div>"
       ],
       "metadata": {},
       "output_type": "pyout",
       "prompt_number": 4,
       "text": [
        "             count        mean         std   min       25%       50%    75%  \\\n",
        "PassengerId    891  446.000000  257.353842  1.00  223.5000  446.0000  668.5   \n",
        "Survived       891    0.383838    0.486592  0.00    0.0000    0.0000    1.0   \n",
        "Pclass         891    2.308642    0.836071  1.00    2.0000    3.0000    3.0   \n",
        "Age            714   29.699118   14.526497  0.42   20.1250   28.0000   38.0   \n",
        "SibSp          891    0.523008    1.102743  0.00    0.0000    0.0000    1.0   \n",
        "Parch          891    0.381594    0.806057  0.00    0.0000    0.0000    0.0   \n",
        "Fare           891   32.204208   49.693429  0.00    7.9104   14.4542   31.0   \n",
        "\n",
        "                  max  \n",
        "PassengerId  891.0000  \n",
        "Survived       1.0000  \n",
        "Pclass         3.0000  \n",
        "Age           80.0000  \n",
        "SibSp          8.0000  \n",
        "Parch          6.0000  \n",
        "Fare         512.3292  "
       ]
      }
     ],
     "prompt_number": 4
    },
    {
     "cell_type": "code",
     "collapsed": false,
     "input": [
      "#Code for plot goes here\n",
      "df_train['Survived'].hist()\n",
      "#plt.hist(df_train['Survived'])"
     ],
     "language": "python",
     "metadata": {},
     "outputs": [
      {
       "metadata": {},
       "output_type": "pyout",
       "prompt_number": 22,
       "text": [
        "<matplotlib.axes._subplots.AxesSubplot at 0x10f533b10>"
       ]
      },
      {
       "metadata": {},
       "output_type": "display_data",
       "png": "[encoded data removed]",
       "text": [
        "<matplotlib.figure.Figure at 0x10f5532d0>"
       ]
      }
     ],
     "prompt_number": 22
    },
    {
     "cell_type": "code",
     "collapsed": false,
     "input": [
      "plt.hist(df_train['Pclass'])"
     ],
     "language": "python",
     "metadata": {},
     "outputs": [
      {
       "metadata": {},
       "output_type": "pyout",
       "prompt_number": 23,
       "text": [
        "(array([ 216.,    0.,    0.,    0.,    0.,  184.,    0.,    0.,    0.,  491.]),\n",
        " array([ 1. ,  1.2,  1.4,  1.6,  1.8,  2. ,  2.2,  2.4,  2.6,  2.8,  3. ]),\n",
        " <a list of 10 Patch objects>)"
       ]
      },
      {
       "metadata": {},
       "output_type": "display_data",
       "png": "[encoded data removed]",
       "text": [
        "<matplotlib.figure.Figure at 0x10f649250>"
       ]
      }
     ],
     "prompt_number": 23
    },
    {
     "cell_type": "code",
     "collapsed": false,
     "input": [
      "df_train.corr()"
     ],
     "language": "python",
     "metadata": {},
     "outputs": [
      {
       "html": [
        "<div style=\"max-height:1000px;max-width:1500px;overflow:auto;\">\n",
        "<table border=\"1\" class=\"dataframe\">\n",
        "  <thead>\n",
        "    <tr style=\"text-align: right;\">\n",
        "      <th></th>\n",
        "      <th>PassengerId</th>\n",
        "      <th>Survived</th>\n",
        "      <th>Pclass</th>\n",
        "      <th>Age</th>\n",
        "      <th>SibSp</th>\n",
        "      <th>Parch</th>\n",
        "      <th>Fare</th>\n",
        "    </tr>\n",
        "  </thead>\n",
        "  <tbody>\n",
        "    <tr>\n",
        "      <th>PassengerId</th>\n",
        "      <td> 1.000000</td>\n",
        "      <td>-0.005007</td>\n",
        "      <td>-0.035144</td>\n",
        "      <td> 0.036847</td>\n",
        "      <td>-0.057527</td>\n",
        "      <td>-0.001652</td>\n",
        "      <td> 0.012658</td>\n",
        "    </tr>\n",
        "    <tr>\n",
        "      <th>Survived</th>\n",
        "      <td>-0.005007</td>\n",
        "      <td> 1.000000</td>\n",
        "      <td>-0.338481</td>\n",
        "      <td>-0.077221</td>\n",
        "      <td>-0.035322</td>\n",
        "      <td> 0.081629</td>\n",
        "      <td> 0.257307</td>\n",
        "    </tr>\n",
        "    <tr>\n",
        "      <th>Pclass</th>\n",
        "      <td>-0.035144</td>\n",
        "      <td>-0.338481</td>\n",
        "      <td> 1.000000</td>\n",
        "      <td>-0.369226</td>\n",
        "      <td> 0.083081</td>\n",
        "      <td> 0.018443</td>\n",
        "      <td>-0.549500</td>\n",
        "    </tr>\n",
        "    <tr>\n",
        "      <th>Age</th>\n",
        "      <td> 0.036847</td>\n",
        "      <td>-0.077221</td>\n",
        "      <td>-0.369226</td>\n",
        "      <td> 1.000000</td>\n",
        "      <td>-0.308247</td>\n",
        "      <td>-0.189119</td>\n",
        "      <td> 0.096067</td>\n",
        "    </tr>\n",
        "    <tr>\n",
        "      <th>SibSp</th>\n",
        "      <td>-0.057527</td>\n",
        "      <td>-0.035322</td>\n",
        "      <td> 0.083081</td>\n",
        "      <td>-0.308247</td>\n",
        "      <td> 1.000000</td>\n",
        "      <td> 0.414838</td>\n",
        "      <td> 0.159651</td>\n",
        "    </tr>\n",
        "    <tr>\n",
        "      <th>Parch</th>\n",
        "      <td>-0.001652</td>\n",
        "      <td> 0.081629</td>\n",
        "      <td> 0.018443</td>\n",
        "      <td>-0.189119</td>\n",
        "      <td> 0.414838</td>\n",
        "      <td> 1.000000</td>\n",
        "      <td> 0.216225</td>\n",
        "    </tr>\n",
        "    <tr>\n",
        "      <th>Fare</th>\n",
        "      <td> 0.012658</td>\n",
        "      <td> 0.257307</td>\n",
        "      <td>-0.549500</td>\n",
        "      <td> 0.096067</td>\n",
        "      <td> 0.159651</td>\n",
        "      <td> 0.216225</td>\n",
        "      <td> 1.000000</td>\n",
        "    </tr>\n",
        "  </tbody>\n",
        "</table>\n",
        "</div>"
       ],
       "metadata": {},
       "output_type": "pyout",
       "prompt_number": 24,
       "text": [
        "             PassengerId  Survived    Pclass       Age     SibSp     Parch  \\\n",
        "PassengerId     1.000000 -0.005007 -0.035144  0.036847 -0.057527 -0.001652   \n",
        "Survived       -0.005007  1.000000 -0.338481 -0.077221 -0.035322  0.081629   \n",
        "Pclass         -0.035144 -0.338481  1.000000 -0.369226  0.083081  0.018443   \n",
        "Age             0.036847 -0.077221 -0.369226  1.000000 -0.308247 -0.189119   \n",
        "SibSp          -0.057527 -0.035322  0.083081 -0.308247  1.000000  0.414838   \n",
        "Parch          -0.001652  0.081629  0.018443 -0.189119  0.414838  1.000000   \n",
        "Fare            0.012658  0.257307 -0.549500  0.096067  0.159651  0.216225   \n",
        "\n",
        "                 Fare  \n",
        "PassengerId  0.012658  \n",
        "Survived     0.257307  \n",
        "Pclass      -0.549500  \n",
        "Age          0.096067  \n",
        "SibSp        0.159651  \n",
        "Parch        0.216225  \n",
        "Fare         1.000000  "
       ]
      }
     ],
     "prompt_number": 24
    },
    {
     "cell_type": "markdown",
     "metadata": {},
     "source": [
      "Once you have explored the dataset, begin creating your model. You may want to do several iterations of this experimenting with different combinations of features. "
     ]
    },
    {
     "cell_type": "code",
     "collapsed": false,
     "input": [
      "#Create your model here"
     ],
     "language": "python",
     "metadata": {},
     "outputs": [],
     "prompt_number": 9
    },
    {
     "cell_type": "markdown",
     "metadata": {},
     "source": [
      "#How do I test my results?\n",
      "There are a few ways to evaluate your model. One is by comparing it to the test set and calculating a prediction accuracy. This method would work if you have the outcome variable in your test set. Unfortunately for this dataset, Kaggle has withheld that, probably to prevent overfitting. You could also interpret it further by delving deeper into the summary information the model provides. This could involve looking at confidence intervals and odd ratios for the coefficients. "
     ]
    },
    {
     "cell_type": "code",
     "collapsed": false,
     "input": [
      "#Evaluate results here"
     ],
     "language": "python",
     "metadata": {},
     "outputs": [],
     "prompt_number": 10
    },
    {
     "cell_type": "markdown",
     "metadata": {},
     "source": [
      "(Optional) Another way that you can evaluate, leveraging the fact that this is a Kaggle competition, is to upload your results directly to Kaggle and see how your results stack against all the others who have competed. To submit to Kaggle, you'll have to save the output of your predictions to a CSV file and upload that to the Kaggle Titanic contest page. You'll need a Kaggle account to do this. \n",
      "\n",
      "Go to the Kaggle page [here]('http://www.kaggle.com/c/titanic-gettingStarted').\n",
      "\n",
      "If you do submit on Kaggle, post your Kaggle accuracy on Hipchat and see how you compare to your classmates!\n",
      "\n",
      "*Note that the format for submission for Kaggle competitions is very strict. Make sure you submit it the way they want it.*"
     ]
    },
    {
     "cell_type": "markdown",
     "metadata": {},
     "source": [
      "#Notes:\n",
      "- There is missing data that you may want to remove before you begin running your analysis.\n",
      "- Beware of overfitting! Sometimes a good prediction accuracy with the test set may not necessarily translate to the best result you would get on Kaggle.\n"
     ]
    },
    {
     "cell_type": "code",
     "collapsed": false,
     "input": [],
     "language": "python",
     "metadata": {},
     "outputs": []
    }
   ],
   "metadata": {}
  }
 ]
}