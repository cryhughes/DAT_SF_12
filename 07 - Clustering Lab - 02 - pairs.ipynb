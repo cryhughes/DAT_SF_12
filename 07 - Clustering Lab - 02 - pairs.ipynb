{
 "metadata": {
  "name": "",
  "signature": "sha256:685f7d3b47092168241fd5722715263bcb7b54ef033f6461b5ecf0c3ac078048"
 },
 "nbformat": 3,
 "nbformat_minor": 0,
 "worksheets": [
  {
   "cells": [
    {
     "cell_type": "markdown",
     "metadata": {},
     "source": [
      "Lab\n",
      "==========================================\n",
      "Clustering\n",
      "------------------------------------------\n",
      "Alessandro D. Gagliardi"
     ]
    },
    {
     "cell_type": "code",
     "collapsed": false,
     "input": [
      "%matplotlib inline\n",
      "\n",
      "import numpy as np\n",
      "import pandas as pd\n",
      "import sklearn.datasets as datasets\n",
      "\n",
      "from seaborn import plt, color_palette\n",
      "from sklearn.preprocessing import scale"
     ],
     "language": "python",
     "metadata": {},
     "outputs": [],
     "prompt_number": 1
    },
    {
     "cell_type": "markdown",
     "metadata": {},
     "source": [
      "For our first example, let's create some synthetic easy-to-cluster data:"
     ]
    },
    {
     "cell_type": "code",
     "collapsed": false,
     "input": [
      "X, Y = datasets.make_blobs(centers=4, cluster_std=0.5, random_state=1)"
     ],
     "language": "python",
     "metadata": {},
     "outputs": [],
     "prompt_number": 2
    },
    {
     "cell_type": "code",
     "collapsed": false,
     "input": [
      "type(X)"
     ],
     "language": "python",
     "metadata": {},
     "outputs": [
      {
       "metadata": {},
       "output_type": "pyout",
       "prompt_number": 3,
       "text": [
        "numpy.ndarray"
       ]
      }
     ],
     "prompt_number": 3
    },
    {
     "cell_type": "markdown",
     "metadata": {},
     "source": [
      "As always, we first *plot* the data to get a feeling of what we're dealing with:"
     ]
    },
    {
     "cell_type": "code",
     "collapsed": false,
     "input": [
      "plt.scatter(X[:,0], X[:,1]); # semi-colon - all rows in python indexing"
     ],
     "language": "python",
     "metadata": {},
     "outputs": [
      {
       "metadata": {},
       "output_type": "pyout",
       "prompt_number": 4,
       "text": [
        "<matplotlib.collections.PathCollection at 0x10a202a90>"
       ]
      },
      {
       "metadata": {},
       "output_type": "display_data",
       "png": "[encoded data removed]",
       "text": [
        "<matplotlib.figure.Figure at 0x10a0faa50>"
       ]
      }
     ],
     "prompt_number": 4
    },
    {
     "cell_type": "markdown",
     "metadata": {},
     "source": [
      "The data looks like it may contain four different \"types\" of data point. \n",
      "\n",
      "In fact, this is how it was created above.\n",
      "\n",
      "We can plot this information as well, using color:"
     ]
    },
    {
     "cell_type": "code",
     "collapsed": false,
     "input": [
      "c = [color_palette()[i] for i in Y] #for every i in Y col\n",
      "\n",
      "plt.scatter(X[:,0], X[:,1], c=c) #"
     ],
     "language": "python",
     "metadata": {},
     "outputs": [
      {
       "metadata": {},
       "output_type": "pyout",
       "prompt_number": 5,
       "text": [
        "<matplotlib.collections.PathCollection at 0x10a4b4690>"
       ]
      },
      {
       "metadata": {},
       "output_type": "display_data",
       "png": "[encoded data removed]",
       "text": [
        "<matplotlib.figure.Figure at 0x1047205d0>"
       ]
      }
     ],
     "prompt_number": 5
    },
    {
     "cell_type": "markdown",
     "metadata": {},
     "source": [
      "However, if you do not know the information in `Y`, you could try to recover it from the data alone.\n",
      "\n",
      "Using hierarchical clustering, we start with a distance matrix:"
     ]
    },
    {
     "cell_type": "code",
     "collapsed": false,
     "input": [
      "#pdist = pairwise distance between points... check the arg options below\n",
      "#pdist?\n",
      "#help(pdist)"
     ],
     "language": "python",
     "metadata": {},
     "outputs": []
    },
    {
     "cell_type": "code",
     "collapsed": false,
     "input": [
      "# compute distance matrix\n",
      "from scipy.spatial.distance import pdist, squareform\n",
      "\n",
      "# not printed as pretty, but the values are correct\n",
      "distx = squareform(pdist(X, metric='euclidean')) #X = all points, \n",
      "distx"
     ],
     "language": "python",
     "metadata": {},
     "outputs": [
      {
       "metadata": {},
       "output_type": "pyout",
       "prompt_number": 6,
       "text": [
        "array([[ 0.        ,  4.07351377,  1.38489752, ...,  4.20935219,\n",
        "         4.83513775,  5.09018246],\n",
        "       [ 4.07351377,  0.        ,  5.09606694, ...,  3.60582807,\n",
        "         0.77397149,  3.88578556],\n",
        "       [ 1.38489752,  5.09606694,  0.        , ...,  4.19184808,\n",
        "         5.81665145,  5.10360012],\n",
        "       ..., \n",
        "       [ 4.20935219,  3.60582807,  4.19184808, ...,  0.        ,\n",
        "         3.85038289,  0.91236854],\n",
        "       [ 4.83513775,  0.77397149,  5.81665145, ...,  3.85038289,\n",
        "         0.        ,  3.95349833],\n",
        "       [ 5.09018246,  3.88578556,  5.10360012, ...,  0.91236854,\n",
        "         3.95349833,  0.        ]])"
       ]
      }
     ],
     "prompt_number": 6
    },
    {
     "cell_type": "code",
     "collapsed": false,
     "input": [
      "#new entry for testing"
     ],
     "language": "python",
     "metadata": {},
     "outputs": []
    },
    {
     "cell_type": "markdown",
     "metadata": {},
     "source": [
      "We then use `scipy.cluster.hierarchy.linkage` to create the hierarchy, and `...dendrogram` to plot it."
     ]
    },
    {
     "cell_type": "code",
     "collapsed": false,
     "input": [
      "# perform clustering and plot the dendrogram\n",
      "from scipy.cluster.hierarchy import linkage, dendrogram\n",
      "\n",
      "#R = dendrogram(linkage(distx, method='single'), color_threshold=10)\n",
      "R = dendrogram(linkage(distx, method='single')) # color_threshold)\n",
      "\n",
      "\n",
      "plt.xlabel('points')\n",
      "plt.ylabel('Height')\n",
      "plt.suptitle('Cluster Dendrogram', fontweight='bold', fontsize=14);"
     ],
     "language": "python",
     "metadata": {},
     "outputs": [
      {
       "metadata": {},
       "output_type": "display_data",
       "png": "[encoded data removed]",
       "text": [
        "<matplotlib.figure.Figure at 0x10a29e690>"
       ]
      }
     ],
     "prompt_number": 7
    },
    {
     "cell_type": "markdown",
     "metadata": {},
     "source": [
      "`linkage` supports other methods such as [Ward's](http://en.wikipedia.org/wiki/Ward%27s_method):\n",
      "\n",
      "$$ d(u,v) = \\sqrt{\\frac{|v|+|s|}\n",
      "                       {T}d(v,s)^2\n",
      "                + \\frac{|v|+|t|}\n",
      "                       {T}d(v,t)^2\n",
      "                + \\frac{|v|}\n",
      "                       {T}d(s,t)^2}$$"
     ]
    },
    {
     "cell_type": "code",
     "collapsed": false,
     "input": [
      "R = dendrogram(linkage(distx, method='ward'), color_threshold=100)\n",
      "\n",
      "plt.xlabel('points')\n",
      "plt.ylabel('Height')\n",
      "plt.suptitle('Cluster Dendrogram', fontweight='bold', fontsize=14);"
     ],
     "language": "python",
     "metadata": {},
     "outputs": [
      {
       "metadata": {},
       "output_type": "display_data",
       "png": "[encoded data removed]",
       "text": [
        "<matplotlib.figure.Figure at 0x10a7eb810>"
       ]
      }
     ],
     "prompt_number": 8
    },
    {
     "cell_type": "markdown",
     "metadata": {},
     "source": [
      "scikit-learn supports [Ward's method](http://en.wikipedia.org/wiki/Ward%27s_method) as an unsupervised learning method. However (as with kMeans), you must specify how many clusters you want to get out:"
     ]
    },
    {
     "cell_type": "code",
     "collapsed": false,
     "input": [
      "from sklearn.cluster import AgglomerativeClustering"
     ],
     "language": "python",
     "metadata": {},
     "outputs": [],
     "prompt_number": 9
    },
    {
     "cell_type": "code",
     "collapsed": false,
     "input": [
      "#class default below\n",
      "#hierarch = AgglomerativeClustering(n_clusters=4, linkage='ward')\n",
      "\n",
      "#note: cannot use n_clusters > 6, because default color palate is 7...\n",
      "\n",
      "#this works\n",
      "hierarch = AgglomerativeClustering(n_clusters=6, linkage='ward')\n",
      "\n",
      "#this does not work\n",
      "#hierarch = AgglomerativeClustering(n_clusters=7, linkage='ward')\n"
     ],
     "language": "python",
     "metadata": {},
     "outputs": [],
     "prompt_number": 10
    },
    {
     "cell_type": "markdown",
     "metadata": {},
     "source": [
      "NOTE: Ive changed the n_clusters to 6 -- to go back to original lab, change back to 4"
     ]
    },
    {
     "cell_type": "markdown",
     "metadata": {},
     "source": [
      "Now the label assignments should be quite similar to `Y`, up to a different ordering of the colors:"
     ]
    },
    {
     "cell_type": "code",
     "collapsed": false,
     "input": [
      "Y_hat_hier = hierarch.fit(X).labels_\n",
      "#hierarch = model\n",
      "#fit(x) = fit to data\n",
      "#labels_ = extract \n",
      "    #note \"underscore at end is scikit learn specific for \"estimated\"\n",
      "#so...\n",
      "#Y_hat_hier = extraction of labels_ from fit(X) of the hierach model"
     ],
     "language": "python",
     "metadata": {},
     "outputs": [],
     "prompt_number": 11
    },
    {
     "cell_type": "code",
     "collapsed": false,
     "input": [
      "c_hat = [color_palette()[i] for i in Y_hat_hier]\n",
      "plt.scatter(X[:,0], X[:,1], c=c_hat);"
     ],
     "language": "python",
     "metadata": {},
     "outputs": [
      {
       "metadata": {},
       "output_type": "display_data",
       "png": "[encoded data removed]",
       "text": [
        "<matplotlib.figure.Figure at 0x10a7609d0>"
       ]
      }
     ],
     "prompt_number": 12
    },
    {
     "cell_type": "markdown",
     "metadata": {},
     "source": [
      "We can do the same using `KMeans`.\n",
      "\n",
      "Note that `KMeans` takes an optional `random_state` argument but `Ward` does not. This is because hierarchical clustering is deterministic while k-Means involves a random element (for picking initial centroids)."
     ]
    },
    {
     "cell_type": "code",
     "collapsed": false,
     "input": [
      "from sklearn.cluster import KMeans\n",
      "\n",
      "kmeans = KMeans(6, random_state=1)\n",
      "Y_hat_kmeans = kmeans.fit(X).labels_\n",
      "\n",
      "c_hat = [color_palette()[i] for i in Y_hat_kmeans]\n",
      "\n",
      "plt.scatter(X[:,0], X[:,1], c=c_hat);"
     ],
     "language": "python",
     "metadata": {},
     "outputs": []
    },
    {
     "cell_type": "markdown",
     "metadata": {},
     "source": [
      "Often, you're not so much interested in the assignments to the means. \n",
      "\n",
      "You'll want to have a closer look at the means $\\mu$.\n",
      "\n",
      "The means in $\\mu$ can be seen as *representatives* of their respective cluster."
     ]
    },
    {
     "cell_type": "code",
     "collapsed": false,
     "input": [
      "#check args for kmeans\n",
      "#help(kmeans)"
     ],
     "language": "python",
     "metadata": {},
     "outputs": []
    },
    {
     "cell_type": "code",
     "collapsed": false,
     "input": [
      "plt.scatter(X[:,0], X[:,1], c=c_hat, alpha=0.4)\n",
      "mu = kmeans.cluster_centers_\n",
      "plt.scatter(mu[:,0], mu[:,1], s=100, c=[color_palette()[i] for i in np.unique(Y_hat_kmeans)])\n",
      "print mu"
     ],
     "language": "python",
     "metadata": {},
     "outputs": []
    },
    {
     "cell_type": "markdown",
     "metadata": {},
     "source": [
      "1-2 Pairs\n",
      "=========\n",
      "\n",
      "1. Follow the steps below to:\n",
      "    - Read `samsungData.csv` and drop `Unnamed: 0` from the data set.\n",
      "    - Load data for `subject 1` \n",
      "    - Plot the first two variables to see how they relate to the six activities provided.\n",
      "2. Try hierarchical clustering on the first three variables and compare that to the activities.\n",
      "    - Try both single linkage and Ward's method.\n",
      "3. Try hierarchical clustering on variables 9 and 10 and do the same.\n",
      "    - Try Ward's, single, and complete linkage methods.\n",
      "4. Try using all columns (except `subject` and `activity`). This time scale your values first.\n",
      "5. Try `KMeans` where `n_clusters = 6` and compare the clusters to the `activity` column."
     ]
    },
    {
     "cell_type": "code",
     "collapsed": false,
     "input": [
      "\n",
      "#assign csv to variable\n",
      "samsungData = pd.read_csv('data/samsungData.csv')\n",
      "\n",
      "#perform operation on variable (to clean it for further analysis)\n",
      "samsungData = samsungData.drop(['Unnamed: 0'], axis=1)"
     ],
     "language": "python",
     "metadata": {},
     "outputs": []
    },
    {
     "cell_type": "markdown",
     "metadata": {},
     "source": [
      "A quick look on the column names and the type of activities in the data:"
     ]
    },
    {
     "cell_type": "code",
     "collapsed": false,
     "input": [
      "samsungData.columns[:12]"
     ],
     "language": "python",
     "metadata": {},
     "outputs": []
    },
    {
     "cell_type": "code",
     "collapsed": false,
     "input": [
      "#explore the raw data\n",
      "\n",
      "samsungData[samsungData.columns[:12]].head() #first 12 columns\n",
      "#samsungData[samsungData.columns[-12:]].head() #last 12 columns\n"
     ],
     "language": "python",
     "metadata": {},
     "outputs": []
    },
    {
     "cell_type": "code",
     "collapsed": false,
     "input": [
      "samsungData['activity'].value_counts()"
     ],
     "language": "python",
     "metadata": {},
     "outputs": []
    },
    {
     "cell_type": "markdown",
     "metadata": {},
     "source": [
      "The scatter plots below show the first and second variable/feature vectors for subject number 1, colour coded by activity. We see that almost all activities have the first and second variable values around zero, except for LAYING, which is spread throughout the y-axis.\n",
      "\n",
      "The conclusion from these plots is that we can't really classify the activities based on the two variables, since their values are very close to each other."
     ]
    },
    {
     "cell_type": "code",
     "collapsed": false,
     "input": [
      "subj1 = samsungData[samsungData['subject'] == 1]\n",
      "\n",
      "numericActivity = subj1.groupby('activity')\n",
      "\n",
      "cols = {'laying' : 'b',\n",
      "        'sitting' : 'g',\n",
      "        'standing' : 'r',\n",
      "        'walk' : 'c',\n",
      "        'walkdown' : 'm',\n",
      "        'walkup' : 'y'}\n",
      "\n",
      "f, (ax1, ax2) = plt.subplots(ncols=2)\n",
      "f.set_size_inches(10, 5)\n",
      "\n",
      "for act, df in numericActivity:\n",
      "    ax1.scatter(df.index, df.ix[:,0], c=cols[act], label=act)\n",
      "    ax2.scatter(df.index, df.ix[:,1], c=cols[act], label=act)\n",
      "\n",
      "ax1.set_ylabel(samsungData.columns[0])\n",
      "ax2.set_ylabel(samsungData.columns[1])\n",
      "ax2.legend(loc='lower right')\n",
      "\n",
      "f.tight_layout();"
     ],
     "language": "python",
     "metadata": {},
     "outputs": []
    },
    {
     "cell_type": "raw",
     "metadata": {},
     "source": [
      "Pairs activiy: \n",
      "Follow the steps below to:\n",
      "Read samsungData.csv and drop Unnamed: 0 from the data set.\n",
      "Load data for subject 1\n",
      "Plot the first two variables to see how they relate to the six activities provided.\n",
      "Try hierarchical clustering on the first three variables and compare that to the activities.\n",
      "Try both single linkage and Ward's method.\n",
      "Try hierarchical clustering on variables 9 and 10 and do the same.\n",
      "Try Ward's, single, and complete linkage methods.\n",
      "Try using all columns (except subject and activity). This time scale your values first.\n",
      "Try KMeans where n_clusters = 6 and compare the clusters to the activity column"
     ]
    },
    {
     "cell_type": "code",
     "collapsed": false,
     "input": [
      "#Hierarchiacl clustering on first 3 variables\n",
      "\n",
      "ftv = samsungData.iloc[:,:3] #look up iloc\n",
      "ftv"
     ],
     "language": "python",
     "metadata": {},
     "outputs": []
    },
    {
     "cell_type": "code",
     "collapsed": false,
     "input": [
      "plt.scatter(ftv.iloc[:,0],ftv.iloc[:,1]);"
     ],
     "language": "python",
     "metadata": {},
     "outputs": []
    },
    {
     "cell_type": "code",
     "collapsed": false,
     "input": [
      "# not printed as pretty, but the values are correct\n",
      "distFtv = squareform(pdist(ftv, metric='euclidean')) #X = all points, \n",
      "distFtv\n"
     ],
     "language": "python",
     "metadata": {},
     "outputs": []
    },
    {
     "cell_type": "code",
     "collapsed": false,
     "input": [
      "# perform clustering and plot the dendrogram\n",
      "from scipy.cluster.hierarchy import linkage, dendrogram\n",
      "\n",
      "S = dendrogram(linkage(distFtv, method='single'), color_threshold=10)\n",
      "#S = dendrogram(linkage(distFtv, method='single')) # color_threshold)\n",
      "\n",
      "\n",
      "plt.xlabel('points')\n",
      "plt.ylabel('Height')\n",
      "plt.suptitle('Cluster Dendrogram', fontweight='bold', fontsize=14);"
     ],
     "language": "python",
     "metadata": {},
     "outputs": []
    },
    {
     "cell_type": "markdown",
     "metadata": {},
     "source": [
      "On your own\n",
      "===========\n",
      "Try hierarchical and k-Means clustering using the iris data set."
     ]
    },
    {
     "cell_type": "code",
     "collapsed": false,
     "input": [
      "from sklearn.datasets import load_iris"
     ],
     "language": "python",
     "metadata": {},
     "outputs": []
    },
    {
     "cell_type": "code",
     "collapsed": false,
     "input": [],
     "language": "python",
     "metadata": {},
     "outputs": []
    }
   ],
   "metadata": {}
  }
 ]
}